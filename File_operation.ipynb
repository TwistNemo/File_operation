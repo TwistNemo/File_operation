{
  "nbformat": 4,
  "nbformat_minor": 0,
  "metadata": {
    "colab": {
      "provenance": []
    },
    "kernelspec": {
      "name": "python3",
      "display_name": "Python 3"
    },
    "language_info": {
      "name": "python"
    }
  },
  "cells": [
    {
      "cell_type": "code",
      "execution_count": null,
      "metadata": {
        "colab": {
          "base_uri": "https://localhost:8080/"
        },
        "id": "lq6K2nEgWZqU",
        "outputId": "33b35041-38f8-4a38-b510-ee519d8dcc78"
      },
      "outputs": [
        {
          "output_type": "stream",
          "name": "stdout",
          "text": [
            "{'a': 5.0, 'b': 10.0}\n"
          ]
        }
      ],
      "source": [
        "# Function to perform the operation based on the operator and operand\n",
        "def perform_operation(operator, operand, current_result):\n",
        "    if operator == 'a':\n",
        "        return current_result + operand  # Addition\n",
        "    elif operator == 'b':\n",
        "        return current_result - operand  # Subtraction\n",
        "    elif operator == 'm':\n",
        "        return current_result * operand  # Multiplication\n",
        "    else:\n",
        "        return current_result  # No valid operator, return the current result\n",
        "\n",
        "# Process 'a.txt'\n",
        "with open('a.txt', 'r') as file:\n",
        "    lines = file.readlines()\n",
        "    result = 0.0\n",
        "    for line in lines:\n",
        "        line = line.strip()\n",
        "        if line and line[1:].replace('.', '', 1).isdigit():\n",
        "            operator = line[0]\n",
        "            operand = float(line[1:])\n",
        "            result = perform_operation(operator, operand, result)\n",
        "\n",
        "results['a'] = result\n",
        "\n",
        "# Process 'b.txt'\n",
        "with open('b.txt', 'r') as file:\n",
        "    lines = file.readlines()\n",
        "    result = 0.0\n",
        "    for line in lines:\n",
        "        line = line.strip()\n",
        "        if line and line[1:].replace('.', '', 1).isdigit():\n",
        "            operator = line[0]\n",
        "            operand = float(line[1:])\n",
        "            result = perform_operation(operator, operand, result)\n",
        "\n",
        "results['b'] = result\n",
        "\n",
        "# Print the results in the specified format\n",
        "formatted_results = {chr(ord(key)): value for key, value in results.items()}\n",
        "print(formatted_results)\n"
      ]
    },
    {
      "cell_type": "markdown",
      "source": [
        "Note: Because of time limitation, error could not be fixed yet. But It could be fixed."
      ],
      "metadata": {
        "id": "JqqFRjoYY31K"
      }
    }
  ]
}